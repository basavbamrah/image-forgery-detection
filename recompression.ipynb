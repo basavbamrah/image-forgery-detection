{
 "cells": [
  {
   "attachments": {},
   "cell_type": "markdown",
   "metadata": {},
   "source": [
    "# ***Image Forgery Detection using Recompression***\n"
   ]
  },
  {
   "attachments": {},
   "cell_type": "markdown",
   "metadata": {},
   "source": [
    "## About the dataset\n",
    "\n",
    "\n",
    "## Authentic images:\n",
    "\n",
    "1. Au_ani_00001.jpg\n",
    "   Au: Authentic\n",
    "   ani: animal category\n",
    "2. Other categories: arc (architecture), art, cha (characters), ind (indoor), nat (nature), pla (plants), txt (texture)\n",
    "\n",
    "## Tampering images\n",
    "\n",
    "a. Spliced image\n",
    "\n",
    "        Tp_D_CRN_S_N_cha00063_art00014_11818.jpg\n",
    "\n",
    "- Tp: Tampering\n",
    "- D: Different (means the tampered region was copied from the different image)\n",
    "- Next 5 letters stand for the techniques they used to create the images. Unfortunately, I don't remember exactly.\n",
    "- cha00063: the source image\n",
    "- art00014: the target image\n",
    "- 11818: tampered image ID\n",
    "\n",
    "b. Copy-move images\n",
    "\n",
    "        Tp_S_NRN_M_N_pla00020_pla00020_10988.jpg\n",
    "\n",
    "- Tp: Tampering\n",
    "- S: Same (means the tampered region was copied from the same image)\n",
    "- And the rest is similar to case a.\n",
    "\n",
    "If you use the groundtruth dataset for a scientific publication, please cite the following papers:\n",
    "\n",
    "- CASIA dataset\n",
    "\n",
    "        @inproceedings{Dong2013,\n",
    "        doi = {10.1109/chinasip.2013.6625374},\n",
    "        url = {https://doi.org/10.1109/chinasip.2013.6625374},\n",
    "        year = {2013},\n",
    "        month = jul,\n",
    "        publisher = {{IEEE}},\n",
    "        author = {Jing Dong and Wei Wang and Tieniu Tan},\n",
    "        title = {{CASIA} Image Tampering Detection Evaluation Database},\n",
    "        booktitle = {2013 {IEEE} China Summit and International Conference on Signal and Information Processing}\n",
    "        }\n",
    "\n",
    "- CASIA groundtruth dataset\n",
    "\n",
    "       @article{pham2019hybrid,\n",
    "       title={Hybrid Image-Retrieval Method for Image-Splicing Validation},\n",
    "       author={Pham, Nam Thanh and Lee, Jong-Weon and Kwon, Goo-Rak and Park, Chun-Su},\n",
    "       journal={Symmetry},\n",
    "       volume={11},\n",
    "       number={1},\n",
    "       pages={83},\n",
    "       year={2019},\n",
    "       publisher={Multidisciplinary Digital Publishing Institute}\n",
    "       }\n"
   ]
  },
  {
   "cell_type": "code",
   "execution_count": 1,
   "metadata": {},
   "outputs": [],
   "source": [
    "import pandas as pd\n",
    "import numpy as np\n",
    "import tensorflow as tf\n",
    "import cv2\n",
    "from matplotlib import pyplot as plt\n",
    "from PIL import Image, ImageChops, ImageEnhance\n",
    "import os\n",
    "import joblib\n",
    "PATH = '../dataset/CASIA2/'"
   ]
  },
  {
   "cell_type": "code",
   "execution_count": 2,
   "metadata": {},
   "outputs": [
    {
     "data": {
      "text/html": [
       "<div>\n",
       "<style scoped>\n",
       "    .dataframe tbody tr th:only-of-type {\n",
       "        vertical-align: middle;\n",
       "    }\n",
       "\n",
       "    .dataframe tbody tr th {\n",
       "        vertical-align: top;\n",
       "    }\n",
       "\n",
       "    .dataframe thead th {\n",
       "        text-align: right;\n",
       "    }\n",
       "</style>\n",
       "<table border=\"1\" class=\"dataframe\">\n",
       "  <thead>\n",
       "    <tr style=\"text-align: right;\">\n",
       "      <th></th>\n",
       "      <th>img</th>\n",
       "      <th>label</th>\n",
       "    </tr>\n",
       "  </thead>\n",
       "  <tbody>\n",
       "    <tr>\n",
       "      <th>0</th>\n",
       "      <td>../dataset/CASIA2/Au/Au_ani_00001.jpg</td>\n",
       "      <td>Au</td>\n",
       "    </tr>\n",
       "    <tr>\n",
       "      <th>1</th>\n",
       "      <td>../dataset/CASIA2/Au/Au_ani_00002.jpg</td>\n",
       "      <td>Au</td>\n",
       "    </tr>\n",
       "    <tr>\n",
       "      <th>2</th>\n",
       "      <td>../dataset/CASIA2/Au/Au_ani_00003.jpg</td>\n",
       "      <td>Au</td>\n",
       "    </tr>\n",
       "    <tr>\n",
       "      <th>3</th>\n",
       "      <td>../dataset/CASIA2/Au/Au_ani_00004.jpg</td>\n",
       "      <td>Au</td>\n",
       "    </tr>\n",
       "    <tr>\n",
       "      <th>4</th>\n",
       "      <td>../dataset/CASIA2/Au/Au_ani_00005.jpg</td>\n",
       "      <td>Au</td>\n",
       "    </tr>\n",
       "  </tbody>\n",
       "</table>\n",
       "</div>"
      ],
      "text/plain": [
       "                                     img label\n",
       "0  ../dataset/CASIA2/Au/Au_ani_00001.jpg    Au\n",
       "1  ../dataset/CASIA2/Au/Au_ani_00002.jpg    Au\n",
       "2  ../dataset/CASIA2/Au/Au_ani_00003.jpg    Au\n",
       "3  ../dataset/CASIA2/Au/Au_ani_00004.jpg    Au\n",
       "4  ../dataset/CASIA2/Au/Au_ani_00005.jpg    Au"
      ]
     },
     "execution_count": 2,
     "metadata": {},
     "output_type": "execute_result"
    }
   ],
   "source": [
    "\n",
    "# PATH_TP='./dataset/CASIA2/Tp/'\n",
    "data_label = ['Au', 'Tp']\n",
    "label_lst = []\n",
    "img_lst = []\n",
    "for label in data_label:\n",
    "    # print(label)\n",
    "    # print(os.listdir(PATH+label))\n",
    "    for img_file in os.listdir(PATH+label):\n",
    "        img_lst.append(PATH+label+'/'+img_file)\n",
    "        label_lst.append(label)\n",
    "    # print(label_lst)\n",
    "\n",
    "\n",
    "df = pd.DataFrame({'img': img_lst, 'label': label_lst})\n",
    "df.head()\n"
   ]
  },
  {
   "cell_type": "code",
   "execution_count": 3,
   "metadata": {},
   "outputs": [
    {
     "data": {
      "text/plain": [
       "Au    7491\n",
       "Tp    5123\n",
       "Name: label, dtype: int64"
      ]
     },
     "execution_count": 3,
     "metadata": {},
     "output_type": "execute_result"
    }
   ],
   "source": [
    "df.label.value_counts()\n"
   ]
  },
  {
   "cell_type": "code",
   "execution_count": 4,
   "metadata": {},
   "outputs": [],
   "source": [
    "# def size(x):\n",
    "#     return plt.imread(x).shape\n",
    "\n",
    "\n",
    "# df['size'] = df['img'].apply(size)\n"
   ]
  },
  {
   "cell_type": "code",
   "execution_count": 5,
   "metadata": {},
   "outputs": [],
   "source": [
    "# print(df['size'].head(20))\n",
    "# print(df['size'].tail(20))\n",
    "# # df.tail()\n"
   ]
  },
  {
   "cell_type": "code",
   "execution_count": 6,
   "metadata": {},
   "outputs": [],
   "source": [
    "path_resaved = '../dataset/resaved/'\n",
    "\n",
    "\n",
    "def difference(path):\n",
    "    filename = path\n",
    "    # print(path)\n",
    "    resaved_name = filename.split('.')[-2]+'_resaved.jpg'\n",
    "    # print(resaved_name)\n",
    "    resaved_name = path_resaved+resaved_name.split('/')[-1]\n",
    "    org = Image.open(filename).convert('RGB')\n",
    "    org.save(resaved_name, 'JPEG', quality=90)\n",
    "    resaved = Image.open(resaved_name)\n",
    "    diff = ImageChops.difference(org, resaved)\n",
    "    extrema = diff.getextrema()\n",
    "    max_diff = max([ex[1] for ex in extrema])\n",
    "    if max_diff == 0:\n",
    "            max_diff = 1\n",
    "    scale = 255.0 / max_diff\n",
    "\n",
    "    diff = ImageEnhance.Brightness(diff).enhance(scale)\n",
    "    # diff\n",
    "    return diff\n"
   ]
  },
  {
   "cell_type": "code",
   "execution_count": 10,
   "metadata": {},
   "outputs": [],
   "source": [
    "from keras.utils.np_utils import to_categorical\n",
    "from  pylab import *\n",
    "X = []\n",
    "y = []\n",
    "\n",
    "for index, row in df.iterrows():\n",
    "    x = array(difference(row[0]).resize((128, 128))).flatten()/255.0\n",
    "    X.append(x)\n",
    "    if row[1]=='Au':\n",
    "        y.append(0)\n",
    "    else:\n",
    "        y.append(1)\n",
    "\n",
    "X = np.array(X)\n",
    "X = X.reshape(-1, 128, 128, 3)\n",
    "\n",
    "Y = to_categorical(y, 2)\n"
   ]
  },
  {
   "cell_type": "code",
   "execution_count": 11,
   "metadata": {},
   "outputs": [
    {
     "data": {
      "image/png": "[encoded data removed]",
      "text/plain": [
       "<PIL.Image.Image image mode=RGB size=128x128>"
      ]
     },
     "execution_count": 11,
     "metadata": {},
     "output_type": "execute_result"
    }
   ],
   "source": [
    "# x=difference(df['img'][9000]).resize((128, 128))\n",
    "# # .flatten()/255.0\n",
    "# x=array(x)\n",
    "# print(x.shape)\n",
    "# x.flatten().shape\n",
    "# x\n",
    "Image.fromarray(X[0],'RGB')\n",
    "# Image.fromarray(X[10].reshape((128,128,3)),'RGB')"
   ]
  },
  {
   "cell_type": "code",
   "execution_count": 12,
   "metadata": {},
   "outputs": [
    {
     "data": {
      "text/plain": [
       "['y_comp_diff_org.joblib']"
      ]
     },
     "execution_count": 12,
     "metadata": {},
     "output_type": "execute_result"
    }
   ],
   "source": [
    "import joblib\n",
    "\n",
    "joblib.dump(X,'X_comp_diff_org.joblib')\n",
    "joblib.dump(y,'y_comp_diff_org.joblib')"
   ]
  },
  {
   "cell_type": "code",
   "execution_count": 13,
   "metadata": {},
   "outputs": [],
   "source": [
    "# import joblib\n",
    "# X=joblib.load('./X_comp_diff_org.joblib')\n",
    "# y=joblib.load('./y_comp_diff_org.joblib')\n"
   ]
  },
  {
   "cell_type": "code",
   "execution_count": 14,
   "metadata": {},
   "outputs": [],
   "source": [
    "# y=np.array(y)\n",
    "# type(y)\n"
   ]
  },
  {
   "cell_type": "code",
   "execution_count": 15,
   "metadata": {},
   "outputs": [],
   "source": [
    "# print(X.shape)\n",
    "# y=y.reshape((-1,1))\n",
    "# y.shape"
   ]
  },
  {
   "attachments": {},
   "cell_type": "markdown",
   "metadata": {},
   "source": [
    "### Train-Test Split"
   ]
  },
  {
   "cell_type": "code",
   "execution_count": 22,
   "metadata": {},
   "outputs": [],
   "source": [
    "from sklearn.model_selection import train_test_split\n",
    "\n",
    "X_train, X_test, y_train, y_test = train_test_split(X, Y, test_size=0.1,random_state=0, shuffle=True)"
   ]
  },
  {
   "cell_type": "code",
   "execution_count": 23,
   "metadata": {},
   "outputs": [
    {
     "name": "stdout",
     "output_type": "stream",
     "text": [
      "(11352, 128, 128, 3) (1262, 128, 128, 3)\n",
      "<class 'numpy.ndarray'>\n"
     ]
    }
   ],
   "source": [
    "print(X_train.shape, X_test.shape)\n",
    "print(type(Y))"
   ]
  },
  {
   "attachments": {},
   "cell_type": "markdown",
   "metadata": {},
   "source": [
    "### Model Building"
   ]
  },
  {
   "cell_type": "code",
   "execution_count": 24,
   "metadata": {},
   "outputs": [],
   "source": [
    "def build_model():\n",
    "        \n",
    "    model =  tf.keras.Sequential()\n",
    "    # input layer\n",
    "    model.add(tf.keras.layers.Conv2D(kernel_size=(3,3), filters=32, input_shape=[128,128,3], activation='relu'))\n",
    "\n",
    "    # hidden layers\n",
    "    model.add(tf.keras.layers.Conv2D(filters=32, padding='valid', kernel_size=(5,5), activation='relu'))\n",
    "    model.add(tf.keras.layers.Conv2D(filters=32, padding='valid', kernel_size=(5,5), activation='relu'))\n",
    "    # pooling\n",
    "    model.add(tf.keras.layers.MaxPool2D(pool_size=2, padding='valid', strides=(2,2)))\n",
    "    model.add(tf.keras.layers.Dropout(.25))\n",
    "    # flatten\n",
    "    model.add(tf.keras.layers.Flatten())\n",
    "\n",
    "    model.add(tf.keras.layers.Dense(256, activation='relu'))\n",
    "    model.add(tf.keras.layers.Dropout(.50))\n",
    "    model.add(tf.keras.layers.Dense(256, activation='relu'))\n",
    "    model.add(tf.keras.layers.Dropout(.50))\n",
    "\n",
    "    # output layer\n",
    "    model.add(tf.keras.layers.Dense(2, activation='sigmoid'))\n",
    "    return model\n"
   ]
  },
  {
   "cell_type": "code",
   "execution_count": 25,
   "metadata": {},
   "outputs": [
    {
     "name": "stdout",
     "output_type": "stream",
     "text": [
      "Model: \"sequential_1\"\n",
      "_________________________________________________________________\n",
      " Layer (type)                Output Shape              Param #   \n",
      "=================================================================\n",
      " conv2d_3 (Conv2D)           (None, 126, 126, 32)      896       \n",
      "                                                                 \n",
      " conv2d_4 (Conv2D)           (None, 122, 122, 32)      25632     \n",
      "                                                                 \n",
      " conv2d_5 (Conv2D)           (None, 118, 118, 32)      25632     \n",
      "                                                                 \n",
      " max_pooling2d_1 (MaxPooling  (None, 59, 59, 32)       0         \n",
      " 2D)                                                             \n",
      "                                                                 \n",
      " dropout_3 (Dropout)         (None, 59, 59, 32)        0         \n",
      "                                                                 \n",
      " flatten_1 (Flatten)         (None, 111392)            0         \n",
      "                                                                 \n",
      " dense_3 (Dense)             (None, 256)               28516608  \n",
      "                                                                 \n",
      " dropout_4 (Dropout)         (None, 256)               0         \n",
      "                                                                 \n",
      " dense_4 (Dense)             (None, 256)               65792     \n",
      "                                                                 \n",
      " dropout_5 (Dropout)         (None, 256)               0         \n",
      "                                                                 \n",
      " dense_5 (Dense)             (None, 2)                 514       \n",
      "                                                                 \n",
      "=================================================================\n",
      "Total params: 28,635,074\n",
      "Trainable params: 28,635,074\n",
      "Non-trainable params: 0\n",
      "_________________________________________________________________\n"
     ]
    }
   ],
   "source": [
    "model=build_model()\n",
    "model.summary()\n"
   ]
  },
  {
   "cell_type": "code",
   "execution_count": 42,
   "metadata": {},
   "outputs": [
    {
     "name": "stdout",
     "output_type": "stream",
     "text": [
      "Epoch 1/20\n",
      "344/344 [==============================] - 546s 2s/step - loss: 0.2257 - accuracy: 0.9064 - val_loss: 0.3606 - val_accuracy: 0.8851\n",
      "Epoch 2/20\n",
      "340/344 [============================>.] - ETA: 6s - loss: 0.2094 - accuracy: 0.9146"
     ]
    }
   ],
   "source": [
    "epoch = 20\n",
    "batch_size= 33\n",
    "cal1 = tf.keras.callbacks.ModelCheckpoint(\n",
    "    save_best_only=True, filepath='ann.h5')\n",
    "cal2 = tf.keras.callbacks.EarlyStopping(patience=4)\n",
    "#  optimizer = RMSprop(lr=lr, rho=0.9, epsilon=1e-08, decay=0.0)\n",
    "# model.compile(optimizer='adam', loss= 'binary_crossentropy', metrics=['accuracy'])\n",
    "model.compile(optimizer='adam', loss= 'categorical_crossentropy', metrics=['accuracy'])\n",
    "history= model.fit(X_train, y_train, validation_data=(X_test, y_test), batch_size=batch_size, epochs=epoch, callbacks=[cal1, cal2])\n",
    "history=history.history"
   ]
  },
  {
   "cell_type": "code",
   "execution_count": 27,
   "metadata": {},
   "outputs": [],
   "source": [
    "model.save(\"model_sigmoid.h5\")"
   ]
  },
  {
   "cell_type": "code",
   "execution_count": 29,
   "metadata": {},
   "outputs": [
    {
     "name": "stdout",
     "output_type": "stream",
     "text": [
      "40/40 [==============================] - 6s 140ms/step\n"
     ]
    },
    {
     "data": {
      "text/plain": [
       "array([[2.6020792e-01, 6.7897964e-01],\n",
       "       [3.9644489e-01, 5.6924331e-01],\n",
       "       [9.9412632e-01, 7.8968965e-03],\n",
       "       ...,\n",
       "       [9.9356753e-01, 8.0691790e-03],\n",
       "       [1.0000000e+00, 8.1287472e-20],\n",
       "       [9.6363807e-01, 4.4036351e-02]], dtype=float32)"
      ]
     },
     "execution_count": 29,
     "metadata": {},
     "output_type": "execute_result"
    }
   ],
   "source": [
    "from sklearn.metrics import confusion_matrix\n",
    "\n",
    "y_pred = model.predict(X_test)\n",
    "\n",
    "# confusion_matrix(y_pred, y_test)\n",
    "y_pred"
   ]
  },
  {
   "cell_type": "code",
   "execution_count": 31,
   "metadata": {},
   "outputs": [],
   "source": [
    "y_pred= np.where(y_pred>=0.5,1, 0)"
   ]
  },
  {
   "cell_type": "code",
   "execution_count": 38,
   "metadata": {},
   "outputs": [],
   "source": [
    "y_pred=y_pred.astype('float32')\n",
    "y_pred= np.argmax(y_pred, axis = 1)"
   ]
  },
  {
   "cell_type": "code",
   "execution_count": 39,
   "metadata": {},
   "outputs": [
    {
     "data": {
      "text/plain": [
       "array([[618, 112],\n",
       "       [ 21, 511]], dtype=int64)"
      ]
     },
     "execution_count": 39,
     "metadata": {},
     "output_type": "execute_result"
    }
   ],
   "source": [
    "confusion_matrix(y_pred=y_pred,y_true=y_test.argmax(axis=1) )"
   ]
  },
  {
   "cell_type": "code",
   "execution_count": 41,
   "metadata": {},
   "outputs": [
    {
     "data": {
      "text/plain": [
       "Text(0, 0.5, 'loss')"
      ]
     },
     "execution_count": 41,
     "metadata": {},
     "output_type": "execute_result"
    },
    {
     "data": {
      "image/png": "[encoded data removed]",
      "text/plain": [
       "<Figure size 640x480 with 1 Axes>"
      ]
     },
     "metadata": {},
     "output_type": "display_data"
    }
   ],
   "source": [
    "plt.plot(range(1,6),history['loss'])\n",
    "plt.plot(range(1,6),history['val_loss'])\n",
    "plt.legend(['Training loss','Validation loss'])\n",
    "plt.title('Learning Curve')\n",
    "plt.xlabel('Epochs')\n",
    "plt.ylabel('loss')"
   ]
  },
  {
   "cell_type": "code",
   "execution_count": null,
   "metadata": {},
   "outputs": [],
   "source": []
  }
 ],
 "metadata": {
  "kernelspec": {
   "display_name": "base",
   "language": "python",
   "name": "python3"
  },
  "language_info": {
   "codemirror_mode": {
    "name": "ipython",
    "version": 3
   },
   "file_extension": ".py",
   "mimetype": "text/x-python",
   "name": "python",
   "nbconvert_exporter": "python",
   "pygments_lexer": "ipython3",
   "version": "3.9.13"
  },
  "orig_nbformat": 4,
  "vscode": {
   "interpreter": {
    "hash": "48365518c227e62be147b42d7add44510e7fb62100b3723d8ec93fa6d5610320"
   }
  }
 },
 "nbformat": 4,
 "nbformat_minor": 2
}
