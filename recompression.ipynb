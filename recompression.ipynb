{
 "cells": [
  {
   "attachments": {},
   "cell_type": "markdown",
   "metadata": {},
   "source": [
    "# Image Forgery Detection using Recompression\n"
   ]
  },
  {
   "attachments": {},
   "cell_type": "markdown",
   "metadata": {},
   "source": [
    "## About the dataset\n"
   ]
  },
  {
   "attachments": {},
   "cell_type": "markdown",
   "metadata": {},
   "source": [
    "## Authentic images:\n",
    "\n",
    "1. Au_ani_00001.jpg\n",
    "   Au: Authentic\n",
    "   ani: animal category\n",
    "2. Other categories: arc (architecture), art, cha (characters), ind (indoor), nat (nature), pla (plants), txt (texture)\n",
    "\n",
    "## Tampering images\n",
    "\n",
    "a. Spliced image\n",
    "\n",
    "        Tp_D_CRN_S_N_cha00063_art00014_11818.jpg\n",
    "\n",
    "- Tp: Tampering\n",
    "- D: Different (means the tampered region was copied from the different image)\n",
    "- Next 5 letters stand for the techniques they used to create the images. Unfortunately, I don't remember exactly.\n",
    "- cha00063: the source image\n",
    "- art00014: the target image\n",
    "- 11818: tampered image ID\n",
    "\n",
    "b. Copy-move images\n",
    "\n",
    "        Tp_S_NRN_M_N_pla00020_pla00020_10988.jpg\n",
    "\n",
    "- Tp: Tampering\n",
    "- S: Same (means the tampered region was copied from the same image)\n",
    "- And the rest is similar to case a.\n",
    "\n",
    "If you use the groundtruth dataset for a scientific publication, please cite the following papers:\n",
    "\n",
    "- CASIA dataset\n",
    "\n",
    "        @inproceedings{Dong2013,\n",
    "        doi = {10.1109/chinasip.2013.6625374},\n",
    "        url = {https://doi.org/10.1109/chinasip.2013.6625374},\n",
    "        year = {2013},\n",
    "        month = jul,\n",
    "        publisher = {{IEEE}},\n",
    "        author = {Jing Dong and Wei Wang and Tieniu Tan},\n",
    "        title = {{CASIA} Image Tampering Detection Evaluation Database},\n",
    "        booktitle = {2013 {IEEE} China Summit and International Conference on Signal and Information Processing}\n",
    "        }\n",
    "\n",
    "- CASIA groundtruth dataset\n",
    "\n",
    "       @article{pham2019hybrid,\n",
    "       title={Hybrid Image-Retrieval Method for Image-Splicing Validation},\n",
    "       author={Pham, Nam Thanh and Lee, Jong-Weon and Kwon, Goo-Rak and Park, Chun-Su},\n",
    "       journal={Symmetry},\n",
    "       volume={11},\n",
    "       number={1},\n",
    "       pages={83},\n",
    "       year={2019},\n",
    "       publisher={Multidisciplinary Digital Publishing Institute}\n",
    "       }\n"
   ]
  },
  {
   "cell_type": "code",
   "execution_count": 1,
   "metadata": {},
   "outputs": [],
   "source": [
    "import pandas as pd\n",
    "import numpy as np\n",
    "import tensorflow as tf\n",
    "import cv2\n",
    "from matplotlib import pyplot as plt\n",
    "from PIL import Image, ImageChops, ImageEnhance\n",
    "import os\n"
   ]
  },
  {
   "cell_type": "code",
   "execution_count": 2,
   "metadata": {},
   "outputs": [
    {
     "data": {
      "text/html": [
       "<div>\n",
       "<style scoped>\n",
       "    .dataframe tbody tr th:only-of-type {\n",
       "        vertical-align: middle;\n",
       "    }\n",
       "\n",
       "    .dataframe tbody tr th {\n",
       "        vertical-align: top;\n",
       "    }\n",
       "\n",
       "    .dataframe thead th {\n",
       "        text-align: right;\n",
       "    }\n",
       "</style>\n",
       "<table border=\"1\" class=\"dataframe\">\n",
       "  <thead>\n",
       "    <tr style=\"text-align: right;\">\n",
       "      <th></th>\n",
       "      <th>img</th>\n",
       "      <th>label</th>\n",
       "    </tr>\n",
       "  </thead>\n",
       "  <tbody>\n",
       "    <tr>\n",
       "      <th>0</th>\n",
       "      <td>../dataset/CASIA2/Au/Au_ani_00001.jpg</td>\n",
       "      <td>Au</td>\n",
       "    </tr>\n",
       "    <tr>\n",
       "      <th>1</th>\n",
       "      <td>../dataset/CASIA2/Au/Au_ani_00002.jpg</td>\n",
       "      <td>Au</td>\n",
       "    </tr>\n",
       "    <tr>\n",
       "      <th>2</th>\n",
       "      <td>../dataset/CASIA2/Au/Au_ani_00003.jpg</td>\n",
       "      <td>Au</td>\n",
       "    </tr>\n",
       "    <tr>\n",
       "      <th>3</th>\n",
       "      <td>../dataset/CASIA2/Au/Au_ani_00004.jpg</td>\n",
       "      <td>Au</td>\n",
       "    </tr>\n",
       "    <tr>\n",
       "      <th>4</th>\n",
       "      <td>../dataset/CASIA2/Au/Au_ani_00005.jpg</td>\n",
       "      <td>Au</td>\n",
       "    </tr>\n",
       "  </tbody>\n",
       "</table>\n",
       "</div>"
      ],
      "text/plain": [
       "                                     img label\n",
       "0  ../dataset/CASIA2/Au/Au_ani_00001.jpg    Au\n",
       "1  ../dataset/CASIA2/Au/Au_ani_00002.jpg    Au\n",
       "2  ../dataset/CASIA2/Au/Au_ani_00003.jpg    Au\n",
       "3  ../dataset/CASIA2/Au/Au_ani_00004.jpg    Au\n",
       "4  ../dataset/CASIA2/Au/Au_ani_00005.jpg    Au"
      ]
     },
     "execution_count": 2,
     "metadata": {},
     "output_type": "execute_result"
    }
   ],
   "source": [
    "PATH = '../dataset/CASIA2/'\n",
    "# PATH_TP='./dataset/CASIA2/Tp/'\n",
    "data_label = ['Au', 'Tp']\n",
    "label_lst = []\n",
    "img_lst = []\n",
    "for label in data_label:\n",
    "    # print(label)\n",
    "    # print(os.listdir(PATH+label))\n",
    "    for img_file in os.listdir(PATH+label):\n",
    "        img_lst.append(PATH+label+'/'+img_file)\n",
    "        label_lst.append(label)\n",
    "    # print(label_lst)\n",
    "\n",
    "\n",
    "df = pd.DataFrame({'img': img_lst, 'label': label_lst})\n",
    "df.head()\n"
   ]
  },
  {
   "cell_type": "code",
   "execution_count": 3,
   "metadata": {},
   "outputs": [
    {
     "data": {
      "text/plain": [
       "Au    7491\n",
       "Tp    5123\n",
       "Name: label, dtype: int64"
      ]
     },
     "execution_count": 3,
     "metadata": {},
     "output_type": "execute_result"
    }
   ],
   "source": [
    "df.label.value_counts()\n"
   ]
  },
  {
   "cell_type": "code",
   "execution_count": 4,
   "metadata": {},
   "outputs": [],
   "source": [
    "def size(x):\n",
    "    return plt.imread(x).shape\n",
    "\n",
    "\n",
    "df['size'] = df['img'].apply(size)\n"
   ]
  },
  {
   "cell_type": "code",
   "execution_count": 5,
   "metadata": {},
   "outputs": [
    {
     "name": "stdout",
     "output_type": "stream",
     "text": [
      "0     (256, 384, 3)\n",
      "1     (256, 384, 3)\n",
      "2     (256, 384, 3)\n",
      "3     (256, 384, 3)\n",
      "4     (256, 384, 3)\n",
      "5     (256, 384, 3)\n",
      "6     (256, 384, 3)\n",
      "7     (256, 384, 3)\n",
      "8     (256, 384, 3)\n",
      "9     (256, 384, 3)\n",
      "10    (256, 384, 3)\n",
      "11    (256, 384, 3)\n",
      "12    (256, 384, 3)\n",
      "13    (256, 384, 3)\n",
      "14    (256, 384, 3)\n",
      "15    (256, 384, 3)\n",
      "16    (256, 384, 3)\n",
      "17    (256, 384, 3)\n",
      "18    (256, 384, 3)\n",
      "19    (256, 384, 3)\n",
      "Name: size, dtype: object\n",
      "12594    (256, 384, 3)\n",
      "12595    (256, 384, 3)\n",
      "12596    (256, 384, 3)\n",
      "12597    (256, 384, 3)\n",
      "12598    (256, 384, 3)\n",
      "12599    (256, 384, 3)\n",
      "12600    (256, 384, 3)\n",
      "12601    (256, 384, 3)\n",
      "12602    (256, 384, 3)\n",
      "12603    (500, 375, 3)\n",
      "12604    (180, 240, 3)\n",
      "12605    (384, 256, 3)\n",
      "12606    (256, 384, 3)\n",
      "12607    (390, 561, 3)\n",
      "12608    (256, 384, 3)\n",
      "12609    (256, 384, 3)\n",
      "12610    (314, 550, 3)\n",
      "12611    (572, 800, 3)\n",
      "12612    (256, 384, 3)\n",
      "12613    (256, 384, 3)\n",
      "Name: size, dtype: object\n"
     ]
    }
   ],
   "source": [
    "print(df['size'].head(20))\n",
    "print(df['size'].tail(20))\n",
    "# df.tail()\n"
   ]
  },
  {
   "cell_type": "code",
   "execution_count": 6,
   "metadata": {},
   "outputs": [],
   "source": [
    "path_resaved = '../dataset/resaved/'\n",
    "\n",
    "\n",
    "def difference(path):\n",
    "    filename = path\n",
    "    # print(path)\n",
    "    resaved_name = filename.split('.')[-2]+'_resaved.jpg'\n",
    "    # print(resaved_name)\n",
    "    resaved_name = path_resaved+resaved_name.split('/')[-1]\n",
    "    org = Image.open(filename).convert('RGB')\n",
    "    org.save(resaved_name, 'JPEG', quality=90)\n",
    "    resaved = Image.open(resaved_name)\n",
    "    diff = ImageChops.difference(org, resaved)\n",
    "    extrema = diff.getextrema()\n",
    "    max_diff = max([ex[1] for ex in extrema])\n",
    "    if max_diff == 0:\n",
    "            max_diff = 1\n",
    "    scale = 255.0 / max_diff\n",
    "\n",
    "    diff = ImageEnhance.Brightness(diff).enhance(scale)\n",
    "    # diff\n",
    "    return diff\n"
   ]
  },
  {
   "cell_type": "code",
   "execution_count": 7,
   "metadata": {},
   "outputs": [],
   "source": [
    "from  pylab import *\n",
    "X = []\n",
    "y = []\n",
    "\n",
    "for index, row in df.iterrows():\n",
    "    x = array(difference(row[0]).resize((128, 128))).flatten()/255.0\n",
    "    X.append(x)\n",
    "    if row[1] == 'Au':\n",
    "        y.append(0)\n",
    "    else:\n",
    "        y.append(1)\n",
    "\n",
    "X = np.array(X)\n"
   ]
  },
  {
   "cell_type": "code",
   "execution_count": 41,
   "metadata": {},
   "outputs": [],
   "source": [
    "X = X.reshape(-1, 128, 128, 3)\n"
   ]
  },
  {
   "cell_type": "code",
   "execution_count": 43,
   "metadata": {},
   "outputs": [
    {
     "data": {
      "image/png": "[encoded data removed]",
      "text/plain": [
       "<PIL.Image.Image image mode=RGB size=128x128>"
      ]
     },
     "execution_count": 43,
     "metadata": {},
     "output_type": "execute_result"
    }
   ],
   "source": [
    "# x=difference(df['img'][9000]).resize((128, 128))\n",
    "# # .flatten()/255.0\n",
    "# x=array(x)\n",
    "# print(x.shape)\n",
    "# x.flatten().shape\n",
    "# x\n",
    "Image.fromarray(X[0],'RGB')\n",
    "# Image.fromarray(X[10].reshape((128,128,3)),'RGB')"
   ]
  },
  {
   "cell_type": "code",
   "execution_count": null,
   "metadata": {},
   "outputs": [],
   "source": []
  }
 ],
 "metadata": {
  "kernelspec": {
   "display_name": "base",
   "language": "python",
   "name": "python3"
  },
  "language_info": {
   "codemirror_mode": {
    "name": "ipython",
    "version": 3
   },
   "file_extension": ".py",
   "mimetype": "text/x-python",
   "name": "python",
   "nbconvert_exporter": "python",
   "pygments_lexer": "ipython3",
   "version": "3.9.13"
  },
  "orig_nbformat": 4,
  "vscode": {
   "interpreter": {
    "hash": "48365518c227e62be147b42d7add44510e7fb62100b3723d8ec93fa6d5610320"
   }
  }
 },
 "nbformat": 4,
 "nbformat_minor": 2
}
