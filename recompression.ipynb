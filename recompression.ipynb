{
 "cells": [
  {
   "attachments": {},
   "cell_type": "markdown",
   "metadata": {},
   "source": [
    "# **_Image Forgery Detection using Recompression_**\n"
   ]
  },
  {
   "attachments": {},
   "cell_type": "markdown",
   "metadata": {},
   "source": [
    "## About the dataset\n",
    "\n",
    "## Authentic images:\n",
    "\n",
    "1. Au_ani_00001.jpg\n",
    "   Au: Authentic\n",
    "   ani: animal category\n",
    "2. Other categories: arc (architecture), art, cha (characters), ind (indoor), nat (nature), pla (plants), txt (texture)\n",
    "\n",
    "## Tampering images\n",
    "\n",
    "a. Spliced image\n",
    "\n",
    "        Tp_D_CRN_S_N_cha00063_art00014_11818.jpg\n",
    "\n",
    "- Tp: Tampering\n",
    "- D: Different (means the tampered region was copied from the different image)\n",
    "- Next 5 letters stand for the techniques they used to create the images. Unfortunately, I don't remember exactly.\n",
    "- cha00063: the source image\n",
    "- art00014: the target image\n",
    "- 11818: tampered image ID\n",
    "\n",
    "b. Copy-move images\n",
    "\n",
    "        Tp_S_NRN_M_N_pla00020_pla00020_10988.jpg\n",
    "\n",
    "- Tp: Tampering\n",
    "- S: Same (means the tampered region was copied from the same image)\n",
    "- And the rest is similar to case a.\n",
    "\n",
    "If you use the groundtruth dataset for a scientific publication, please cite the following papers:\n",
    "\n",
    "- CASIA dataset\n",
    "\n",
    "        @inproceedings{Dong2013,\n",
    "        doi = {10.1109/chinasip.2013.6625374},\n",
    "        url = {https://doi.org/10.1109/chinasip.2013.6625374},\n",
    "        year = {2013},\n",
    "        month = jul,\n",
    "        publisher = {{IEEE}},\n",
    "        author = {Jing Dong and Wei Wang and Tieniu Tan},\n",
    "        title = {{CASIA} Image Tampering Detection Evaluation Database},\n",
    "        booktitle = {2013 {IEEE} China Summit and International Conference on Signal and Information Processing}\n",
    "        }\n",
    "\n",
    "- CASIA groundtruth dataset\n",
    "\n",
    "       @article{pham2019hybrid,\n",
    "       title={Hybrid Image-Retrieval Method for Image-Splicing Validation},\n",
    "       author={Pham, Nam Thanh and Lee, Jong-Weon and Kwon, Goo-Rak and Park, Chun-Su},\n",
    "       journal={Symmetry},\n",
    "       volume={11},\n",
    "       number={1},\n",
    "       pages={83},\n",
    "       year={2019},\n",
    "       publisher={Multidisciplinary Digital Publishing Institute}\n",
    "       }\n"
   ]
  },
  {
   "cell_type": "code",
   "execution_count": 14,
   "metadata": {},
   "outputs": [],
   "source": [
    "import pandas as pd\n",
    "import numpy as np\n",
    "import tensorflow as tf\n",
    "import cv2\n",
    "from matplotlib import pyplot as plt\n",
    "from PIL import Image, ImageChops, ImageEnhance\n",
    "import os\n",
    "import joblib\n",
    "PATH = '../dataset/CASIA2/'\n"
   ]
  },
  {
   "cell_type": "code",
   "execution_count": 15,
   "metadata": {},
   "outputs": [
    {
     "data": {
      "text/html": [
       "<div>\n",
       "<style scoped>\n",
       "    .dataframe tbody tr th:only-of-type {\n",
       "        vertical-align: middle;\n",
       "    }\n",
       "\n",
       "    .dataframe tbody tr th {\n",
       "        vertical-align: top;\n",
       "    }\n",
       "\n",
       "    .dataframe thead th {\n",
       "        text-align: right;\n",
       "    }\n",
       "</style>\n",
       "<table border=\"1\" class=\"dataframe\">\n",
       "  <thead>\n",
       "    <tr style=\"text-align: right;\">\n",
       "      <th></th>\n",
       "      <th>img</th>\n",
       "      <th>label</th>\n",
       "    </tr>\n",
       "  </thead>\n",
       "  <tbody>\n",
       "    <tr>\n",
       "      <th>0</th>\n",
       "      <td>../dataset/CASIA2/Au/Au_ani_00001.jpg</td>\n",
       "      <td>Au</td>\n",
       "    </tr>\n",
       "    <tr>\n",
       "      <th>1</th>\n",
       "      <td>../dataset/CASIA2/Au/Au_ani_00002.jpg</td>\n",
       "      <td>Au</td>\n",
       "    </tr>\n",
       "    <tr>\n",
       "      <th>2</th>\n",
       "      <td>../dataset/CASIA2/Au/Au_ani_00003.jpg</td>\n",
       "      <td>Au</td>\n",
       "    </tr>\n",
       "    <tr>\n",
       "      <th>3</th>\n",
       "      <td>../dataset/CASIA2/Au/Au_ani_00004.jpg</td>\n",
       "      <td>Au</td>\n",
       "    </tr>\n",
       "    <tr>\n",
       "      <th>4</th>\n",
       "      <td>../dataset/CASIA2/Au/Au_ani_00005.jpg</td>\n",
       "      <td>Au</td>\n",
       "    </tr>\n",
       "  </tbody>\n",
       "</table>\n",
       "</div>"
      ],
      "text/plain": [
       "                                     img label\n",
       "0  ../dataset/CASIA2/Au/Au_ani_00001.jpg    Au\n",
       "1  ../dataset/CASIA2/Au/Au_ani_00002.jpg    Au\n",
       "2  ../dataset/CASIA2/Au/Au_ani_00003.jpg    Au\n",
       "3  ../dataset/CASIA2/Au/Au_ani_00004.jpg    Au\n",
       "4  ../dataset/CASIA2/Au/Au_ani_00005.jpg    Au"
      ]
     },
     "execution_count": 15,
     "metadata": {},
     "output_type": "execute_result"
    }
   ],
   "source": [
    "\n",
    "# PATH_TP='./dataset/CASIA2/Tp/'\n",
    "data_label = ['Au', 'Tp']\n",
    "label_lst = []\n",
    "img_lst = []\n",
    "for label in data_label:\n",
    "    # print(label)\n",
    "    # print(os.listdir(PATH+label))\n",
    "    for img_file in os.listdir(PATH+label):\n",
    "        img_lst.append(PATH+label+'/'+img_file)\n",
    "        label_lst.append(label)\n",
    "    # print(label_lst)\n",
    "\n",
    "\n",
    "df = pd.DataFrame({'img': img_lst, 'label': label_lst})\n",
    "df.head()\n"
   ]
  },
  {
   "cell_type": "code",
   "execution_count": 16,
   "metadata": {},
   "outputs": [
    {
     "data": {
      "text/plain": [
       "Au    7491\n",
       "Tp    5123\n",
       "Name: label, dtype: int64"
      ]
     },
     "execution_count": 16,
     "metadata": {},
     "output_type": "execute_result"
    }
   ],
   "source": [
    "df.label.value_counts()\n"
   ]
  },
  {
   "cell_type": "code",
   "execution_count": 17,
   "metadata": {},
   "outputs": [],
   "source": [
    "# def size(x):\n",
    "#     return plt.imread(x).shape\n",
    "\n",
    "\n",
    "# df['size'] = df['img'].apply(size)\n"
   ]
  },
  {
   "cell_type": "code",
   "execution_count": 18,
   "metadata": {},
   "outputs": [],
   "source": [
    "# print(df['size'].head(20))\n",
    "# print(df['size'].tail(20))\n",
    "# # df.tail()\n"
   ]
  },
  {
   "cell_type": "code",
   "execution_count": 19,
   "metadata": {},
   "outputs": [],
   "source": [
    "path_resaved = '../dataset/resaved/'\n",
    "\n",
    "\n",
    "def difference(path):\n",
    "    filename = path\n",
    "    # print(path)\n",
    "    resaved_name = filename.split('.')[-2]+'_resaved.jpg'\n",
    "    # print(resaved_name)\n",
    "    resaved_name = path_resaved+resaved_name.split('/')[-1]\n",
    "    org = Image.open(filename).convert('RGB')\n",
    "    org.save(resaved_name, 'JPEG', quality=90)\n",
    "    resaved = Image.open(resaved_name)\n",
    "    diff = ImageChops.difference(org, resaved)\n",
    "    extrema = diff.getextrema()\n",
    "    max_diff = max([ex[1] for ex in extrema])\n",
    "    if max_diff == 0:\n",
    "        max_diff = 1\n",
    "    scale = 255.0 / max_diff\n",
    "\n",
    "    diff = ImageEnhance.Brightness(diff).enhance(scale)\n",
    "    # diff\n",
    "    return diff\n"
   ]
  },
  {
   "cell_type": "code",
   "execution_count": 20,
   "metadata": {},
   "outputs": [],
   "source": [
    "from keras.utils.np_utils import to_categorical\n",
    "from pylab import *\n",
    "X = []\n",
    "y = []\n",
    "\n",
    "for index, row in df.iterrows():\n",
    "    x = array(difference(row[0]).resize((128, 128))).flatten()/255.0\n",
    "    X.append(x)\n",
    "    if row[1] == 'Au':\n",
    "        y.append(0)\n",
    "    else:\n",
    "        y.append(1)\n",
    "\n",
    "X = np.array(X)\n",
    "X = X.reshape(-1, 128, 128, 3)\n",
    "\n",
    "Y = to_categorical(y, 2)\n"
   ]
  },
  {
   "cell_type": "code",
   "execution_count": 21,
   "metadata": {},
   "outputs": [
    {
     "data": {
      "image/png": "[encoded data removed]",
      "text/plain": [
       "<PIL.Image.Image image mode=RGB size=128x128>"
      ]
     },
     "execution_count": 21,
     "metadata": {},
     "output_type": "execute_result"
    }
   ],
   "source": [
    "# x=difference(df['img'][9000]).resize((128, 128))\n",
    "# # .flatten()/255.0\n",
    "# x=array(x)\n",
    "# print(x.shape)\n",
    "# x.flatten().shape\n",
    "# x\n",
    "Image.fromarray(X[0], 'RGB')\n",
    "# Image.fromarray(X[10].reshape((128,128,3)),'RGB')\n"
   ]
  },
  {
   "cell_type": "code",
   "execution_count": 22,
   "metadata": {},
   "outputs": [
    {
     "data": {
      "text/plain": [
       "['y_comp_diff_org.joblib']"
      ]
     },
     "execution_count": 22,
     "metadata": {},
     "output_type": "execute_result"
    }
   ],
   "source": [
    "import joblib\n",
    "\n",
    "joblib.dump(X, 'X_comp_diff_org.joblib')\n",
    "joblib.dump(y, 'y_comp_diff_org.joblib')\n"
   ]
  },
  {
   "cell_type": "code",
   "execution_count": 23,
   "metadata": {},
   "outputs": [],
   "source": [
    "# import joblib\n",
    "# X=joblib.load('./X_comp_diff_org.joblib')\n",
    "# Y=joblib.load('./y_comp_diff_org.joblib')\n"
   ]
  },
  {
   "cell_type": "code",
   "execution_count": 24,
   "metadata": {},
   "outputs": [],
   "source": [
    "# Y=np.array(Y)\n",
    "# type(y)\n"
   ]
  },
  {
   "cell_type": "code",
   "execution_count": 25,
   "metadata": {},
   "outputs": [],
   "source": [
    "# print(X.shape)\n",
    "# y=y.reshape((-1,1))\n",
    "# y.shape\n"
   ]
  },
  {
   "attachments": {},
   "cell_type": "markdown",
   "metadata": {},
   "source": [
    "### Train-Test Split\n"
   ]
  },
  {
   "cell_type": "code",
   "execution_count": 26,
   "metadata": {},
   "outputs": [],
   "source": [
    "from sklearn.model_selection import train_test_split\n",
    "\n",
    "X_train, X_test, y_train, y_test = train_test_split(\n",
    "    X, Y, test_size=0.2, random_state=5, shuffle=True)\n"
   ]
  },
  {
   "cell_type": "code",
   "execution_count": 27,
   "metadata": {},
   "outputs": [
    {
     "name": "stdout",
     "output_type": "stream",
     "text": [
      "(10091, 128, 128, 3) (2523, 128, 128, 3)\n",
      "<class 'numpy.ndarray'>\n"
     ]
    }
   ],
   "source": [
    "print(X_train.shape, X_test.shape)\n",
    "print(type(Y))\n"
   ]
  },
  {
   "attachments": {},
   "cell_type": "markdown",
   "metadata": {},
   "source": [
    "### Model Building\n"
   ]
  },
  {
   "cell_type": "code",
   "execution_count": 28,
   "metadata": {},
   "outputs": [],
   "source": [
    "def build_model(activation='sigmoid'):\n",
    "\n",
    "    model = tf.keras.Sequential()\n",
    "    # input layer\n",
    "    model.add(tf.keras.layers.Conv2D(kernel_size=(3, 3), filters=32,\n",
    "              input_shape=[128, 128, 3], activation='relu'))\n",
    "\n",
    "    # hidden layers\n",
    "    model.add(tf.keras.layers.Conv2D(filters=32, padding='valid',\n",
    "              kernel_size=(3, 3), activation='relu'))\n",
    "    model.add(tf.keras.layers.Conv2D(filters=32, padding='valid',\n",
    "              kernel_size=(3,3), activation='relu'))\n",
    "    # pooling\n",
    "    model.add(tf.keras.layers.MaxPool2D(\n",
    "        pool_size=2, padding='valid'))\n",
    "    # model.add(tf.keras.layers.Dropout(.25))\n",
    "    # flatten\n",
    "    model.add(tf.keras.layers.Flatten())\n",
    "\n",
    "    model.add(tf.keras.layers.Dense(256, activation='relu'))\n",
    "    model.add(tf.keras.layers.Dropout(.50))\n",
    "    # model.add(tf.keras.layers.Dense(256, activation='relu'))\n",
    "    # model.add(tf.keras.layers.Dropout(.50))\n",
    "\n",
    "    # output layer\n",
    "    model.add(tf.keras.layers.Dense(2, activation=activation))\n",
    "    return model\n"
   ]
  },
  {
   "cell_type": "code",
   "execution_count": 29,
   "metadata": {},
   "outputs": [],
   "source": [
    "# model = build_model()\n",
    "# model.summary()\n"
   ]
  },
  {
   "cell_type": "code",
   "execution_count": 30,
   "metadata": {},
   "outputs": [],
   "source": [
    "# adam = tf.keras.optimizers.Adam(learning_rate=0.001, epsilon=1e-08)\n",
    "# epoch = 20\n",
    "# batch_size = 33\n",
    "# cal1 = tf.keras.callbacks.ModelCheckpoint(\n",
    "#     save_best_only=True, filepath='sigmoid_adam.h5')\n",
    "# cal2 = tf.keras.callbacks.EarlyStopping(patience=4)\n",
    "# #  optimizer = RMSprop(lr=lr, rho=0.9, epsilon=1e-08, decay=0.0)\n",
    "# # model.compile(optimizer='adam', loss= 'binary_crossentropy', metrics=['accuracy'])\n",
    "# model.compile(optimizer=adam, loss='categorical_crossentropy',\n",
    "#               metrics=['accuracy'])\n",
    "# # history = model.fit(X_train, y_train, validation_data=(\n",
    "# #     X_test, y_test), batch_size=batch_size, epochs=epoch, callbacks=[cal1, cal2])\n",
    "# history = model.fit(X_train, y_train, validation_data=(\n",
    "#     X_test, y_test), batch_size=batch_size, epochs=epoch)\n",
    "# history = history.history\n"
   ]
  },
  {
   "cell_type": "code",
   "execution_count": 31,
   "metadata": {},
   "outputs": [],
   "source": [
    "# model.save(\"model_sigmoid.h5\")\n"
   ]
  },
  {
   "cell_type": "code",
   "execution_count": 32,
   "metadata": {},
   "outputs": [],
   "source": [
    "from sklearn.metrics import confusion_matrix\n",
    "\n",
    "# y_pred = model.predict(X_test)\n",
    "\n",
    "# # confusion_matrix(y_pred, y_test)\n",
    "# y_pred\n"
   ]
  },
  {
   "cell_type": "code",
   "execution_count": 33,
   "metadata": {},
   "outputs": [],
   "source": [
    "# y_pred = np.where(y_pred >= 0.5, 1, 0)\n"
   ]
  },
  {
   "cell_type": "code",
   "execution_count": 34,
   "metadata": {},
   "outputs": [],
   "source": [
    "# y_pred = y_pred.astype('float32')\n",
    "# y_pred = np.argmax(y_pred, axis=1)\n"
   ]
  },
  {
   "cell_type": "code",
   "execution_count": 35,
   "metadata": {},
   "outputs": [],
   "source": [
    "# confusion_matrix(y_pred=y_pred, y_true=y_test.argmax(axis=1))\n"
   ]
  },
  {
   "cell_type": "code",
   "execution_count": 36,
   "metadata": {},
   "outputs": [],
   "source": [
    "# plt.plot(range(1, 7), history['loss'])\n",
    "# plt.plot(range(1, 7), history['val_loss'])\n",
    "# plt.legend(['Training loss', 'Validation loss'])\n",
    "# plt.title('Learning Curve')\n",
    "# plt.xlabel('Epochs')\n",
    "# plt.ylabel('loss')\n"
   ]
  },
  {
   "cell_type": "markdown",
   "metadata": {},
   "source": []
  },
  {
   "cell_type": "code",
   "execution_count": 37,
   "metadata": {},
   "outputs": [
    {
     "name": "stdout",
     "output_type": "stream",
     "text": [
      "Model: \"sequential_1\"\n",
      "_________________________________________________________________\n",
      " Layer (type)                Output Shape              Param #   \n",
      "=================================================================\n",
      " conv2d_3 (Conv2D)           (None, 126, 126, 32)      896       \n",
      "                                                                 \n",
      " conv2d_4 (Conv2D)           (None, 124, 124, 32)      9248      \n",
      "                                                                 \n",
      " conv2d_5 (Conv2D)           (None, 122, 122, 32)      9248      \n",
      "                                                                 \n",
      " max_pooling2d_1 (MaxPooling  (None, 61, 61, 32)       0         \n",
      " 2D)                                                             \n",
      "                                                                 \n",
      " flatten_1 (Flatten)         (None, 119072)            0         \n",
      "                                                                 \n",
      " dense_2 (Dense)             (None, 256)               30482688  \n",
      "                                                                 \n",
      " dropout_1 (Dropout)         (None, 256)               0         \n",
      "                                                                 \n",
      " dense_3 (Dense)             (None, 2)                 514       \n",
      "                                                                 \n",
      "=================================================================\n",
      "Total params: 30,502,594\n",
      "Trainable params: 30,502,594\n",
      "Non-trainable params: 0\n",
      "_________________________________________________________________\n"
     ]
    }
   ],
   "source": [
    "softmax_adam = build_model('softmax')\n",
    "softmax_adam.summary()"
   ]
  },
  {
   "cell_type": "code",
   "execution_count": 41,
   "metadata": {},
   "outputs": [
    {
     "name": "stdout",
     "output_type": "stream",
     "text": [
      "Epoch 1/20\n",
      "306/306 [==============================] - 263s 854ms/step - loss: 0.4418 - accuracy: 0.7991 - val_loss: 0.4260 - val_accuracy: 0.8094\n",
      "Epoch 2/20\n",
      "306/306 [==============================] - 259s 847ms/step - loss: 0.4161 - accuracy: 0.8341 - val_loss: 0.3778 - val_accuracy: 0.8565\n",
      "Epoch 3/20\n",
      "306/306 [==============================] - 255s 833ms/step - loss: 0.3569 - accuracy: 0.8618 - val_loss: 0.3547 - val_accuracy: 0.8577\n",
      "Epoch 4/20\n",
      "306/306 [==============================] - 256s 835ms/step - loss: 0.3259 - accuracy: 0.8732 - val_loss: 0.3737 - val_accuracy: 0.8656\n",
      "Epoch 5/20\n",
      "306/306 [==============================] - 249s 815ms/step - loss: 0.2943 - accuracy: 0.8858 - val_loss: 0.3976 - val_accuracy: 0.8541\n",
      "Epoch 6/20\n",
      "306/306 [==============================] - 244s 798ms/step - loss: 0.2747 - accuracy: 0.8943 - val_loss: 0.4295 - val_accuracy: 0.8652\n",
      "Epoch 7/20\n",
      "306/306 [==============================] - 244s 797ms/step - loss: 0.2452 - accuracy: 0.9026 - val_loss: 0.4268 - val_accuracy: 0.8494\n",
      "Epoch 8/20\n",
      "306/306 [==============================] - 251s 819ms/step - loss: 0.2268 - accuracy: 0.9116 - val_loss: 0.4775 - val_accuracy: 0.8565\n"
     ]
    }
   ],
   "source": [
    "adam = tf.keras.optimizers.Adam(learning_rate=0.003, epsilon=1e-08)\n",
    "epoch = 20\n",
    "batch_size = 33\n",
    "cal1 = tf.keras.callbacks.ModelCheckpoint(save_best_only=True, filepath='softmax_adam.h5')\n",
    "cal2 = tf.keras.callbacks.EarlyStopping(patience=5)\n",
    "# optimizer = RMSprop(lr=lr, rho=0.9, epsilon=1e-08, decay=0.0)\n",
    "# softmax_adam.compile(optimizer='adam', loss= 'binary_crossentropy', metrics=['accuracy'])\n",
    "softmax_adam.compile(optimizer=adam, loss='categorical_crossentropy',\n",
    "              metrics=['accuracy'])\n",
    "history = softmax_adam.fit(X_train, y_train, validation_data=(X_test, y_test), batch_size=batch_size, epochs=epoch, callbacks=[cal2])\n",
    "history = history.history "
   ]
  },
  {
   "cell_type": "code",
   "execution_count": 42,
   "metadata": {},
   "outputs": [],
   "source": [
    "softmax_adam.save('softmax_adam85.h5')"
   ]
  },
  {
   "cell_type": "code",
   "execution_count": 44,
   "metadata": {},
   "outputs": [
    {
     "data": {
      "text/plain": [
       "Text(0, 0.5, 'loss')"
      ]
     },
     "execution_count": 44,
     "metadata": {},
     "output_type": "execute_result"
    },
    {
     "data": {
      "image/png": "[encoded data removed]",
      "text/plain": [
       "<Figure size 640x480 with 1 Axes>"
      ]
     },
     "metadata": {},
     "output_type": "display_data"
    }
   ],
   "source": [
    "plt.plot(range(1, 9), history['loss'])\n",
    "plt.plot(range(1, 9), history['val_loss'])\n",
    "plt.legend(['Training loss', 'Validation loss'])\n",
    "plt.title('Learning Curve')\n",
    "plt.xlabel('Epochs')\n",
    "plt.ylabel('loss')"
   ]
  },
  {
   "cell_type": "code",
   "execution_count": null,
   "metadata": {},
   "outputs": [],
   "source": [
    "from sklearn.metrics import recall_score, accuracy_score, precision_score\n",
    "\n",
    "def print_score(acc, precision, recall):\n",
    "    print(f\"Recall score: {recall}\")\n",
    "    print(f\"Precision score: {precision}\")\n",
    "    print(f\"Accuracy score: {acc}\")"
   ]
  },
  {
   "cell_type": "code",
   "execution_count": null,
   "metadata": {},
   "outputs": [
    {
     "name": "stdout",
     "output_type": "stream",
     "text": [
      "79/79 [==============================] - 11s 142ms/step\n",
      "Recall score: 0.9244019138755981\n",
      "Precision score: 0.8356401384083045\n",
      "Accuracy score: 0.893380895759017\n"
     ]
    },
    {
     "data": {
      "text/plain": [
       "array([[1288,  190],\n",
       "       [  79,  966]], dtype=int64)"
      ]
     },
     "execution_count": 42,
     "metadata": {},
     "output_type": "execute_result"
    }
   ],
   "source": [
    "\n",
    "y_pred = softmax_adam.predict(X_test)\n",
    "y_pred = np.argmax(y_pred, axis=1)\n",
    "y_t=np.argmax(y_test, axis=1)\n",
    "# print_score()\n",
    "print_score(recall=recall_score(y_pred=y_pred, y_true=y_t), precision=precision_score(\n",
    "    y_pred=y_pred, y_true=y_t), acc=accuracy_score(y_pred=y_pred, y_true=y_t))\n",
    "confusion_matrix(y_pred=y_pred, y_true=y_t)\n"
   ]
  },
  {
   "cell_type": "code",
   "execution_count": null,
   "metadata": {},
   "outputs": [
    {
     "name": "stdout",
     "output_type": "stream",
     "text": [
      "79/79 [==============================] - 11s 142ms/step\n",
      "Recall score: 0.9330143540669856\n",
      "Precision score: 0.7933279088689992\n",
      "Accuracy score: 0.8715814506539834\n"
     ]
    },
    {
     "data": {
      "text/plain": [
       "array([[1224,  254],\n",
       "       [  70,  975]], dtype=int64)"
      ]
     },
     "execution_count": 43,
     "metadata": {},
     "output_type": "execute_result"
    }
   ],
   "source": [
    "from tensorflow.keras.models import load_model\n",
    "model_sigmoid = load_model('./sigmoid_adam.h5')\n",
    "\n",
    "y_pred = model_sigmoid.predict(X_test)\n",
    "y_pred = np.argmax(y_pred, axis=1)\n",
    "y_t=np.argmax(y_test, axis=1)\n",
    "# print_score()\n",
    "print_score(recall=recall_score(y_pred=y_pred, y_true=y_t), precision=precision_score(\n",
    "    y_pred=y_pred, y_true=y_t), acc=accuracy_score(y_pred=y_pred, y_true=y_t))\n",
    "confusion_matrix(y_pred=y_pred, y_true=y_t)"
   ]
  },
  {
   "cell_type": "code",
   "execution_count": null,
   "metadata": {},
   "outputs": [],
   "source": []
  }
 ],
 "metadata": {
  "kernelspec": {
   "display_name": "base",
   "language": "python",
   "name": "python3"
  },
  "language_info": {
   "codemirror_mode": {
    "name": "ipython",
    "version": 3
   },
   "file_extension": ".py",
   "mimetype": "text/x-python",
   "name": "python",
   "nbconvert_exporter": "python",
   "pygments_lexer": "ipython3",
   "version": "3.9.13"
  },
  "orig_nbformat": 4,
  "vscode": {
   "interpreter": {
    "hash": "48365518c227e62be147b42d7add44510e7fb62100b3723d8ec93fa6d5610320"
   }
  }
 },
 "nbformat": 4,
 "nbformat_minor": 2
}
